{
 "cells": [
  {
   "cell_type": "markdown",
   "metadata": {},
   "source": [
    "# Creating bell like shape using numpy, sympy"
   ]
  },
  {
   "cell_type": "code",
   "execution_count": 84,
   "metadata": {},
   "outputs": [],
   "source": [
    "import numpy as np"
   ]
  },
  {
   "cell_type": "code",
   "execution_count": 85,
   "metadata": {},
   "outputs": [],
   "source": [
    "import matplotlib.pyplot as plt"
   ]
  },
  {
   "cell_type": "code",
   "execution_count": 86,
   "metadata": {},
   "outputs": [],
   "source": [
    "import sympy"
   ]
  },
  {
   "cell_type": "markdown",
   "metadata": {},
   "source": [
    "Horn bell has some fixed boundary condition like below."
   ]
  },
  {
   "cell_type": "code",
   "execution_count": 87,
   "metadata": {},
   "outputs": [],
   "source": [
    "df = 300 # large end diameter\n",
    "db = 16  # small end diameter\n",
    "xL = 850 # length"
   ]
  },
  {
   "cell_type": "markdown",
   "metadata": {},
   "source": [
    "To find adequate function that express bell diameter along with axis length, some symbols are needed."
   ]
  },
  {
   "cell_type": "code",
   "execution_count": 88,
   "metadata": {},
   "outputs": [],
   "source": [
    "a,b,c,x,p = sympy.symbols('a b c x p')"
   ]
  },
  {
   "cell_type": "markdown",
   "metadata": {},
   "source": [
    "Looking from large end, bell must be monotominally decreasing.\n",
    "One of such function is written by following expression."
   ]
  },
  {
   "cell_type": "code",
   "execution_count": 89,
   "metadata": {},
   "outputs": [],
   "source": [
    "f = a/(x+b)**p + c"
   ]
  },
  {
   "cell_type": "markdown",
   "metadata": {},
   "source": [
    "At very beginning, bell edge has some tangent angle."
   ]
  },
  {
   "cell_type": "code",
   "execution_count": 90,
   "metadata": {},
   "outputs": [],
   "source": [
    "f1 = sympy.diff(f,x)"
   ]
  },
  {
   "cell_type": "code",
   "execution_count": 91,
   "metadata": {
    "scrolled": false
   },
   "outputs": [
    {
     "data": {
      "text/latex": [
       "$\\displaystyle - \\frac{a b^{- p} p}{b}$"
      ],
      "text/plain": [
       "-a*p/(b*b**p)"
      ]
     },
     "execution_count": 91,
     "metadata": {},
     "output_type": "execute_result"
    }
   ],
   "source": [
    "l1 = f1.subs(x,0);\n",
    "l1"
   ]
  },
  {
   "cell_type": "markdown",
   "metadata": {},
   "source": [
    "Let it be 80 degree on actual geometry."
   ]
  },
  {
   "cell_type": "code",
   "execution_count": 92,
   "metadata": {
    "scrolled": true
   },
   "outputs": [
    {
     "data": {
      "text/latex": [
       "$\\displaystyle - \\frac{a b^{- p} p}{b} = -11.3425636392354$"
      ],
      "text/plain": [
       "Eq(-a*p/(b*b**p), -11.3425636392354)"
      ]
     },
     "execution_count": 92,
     "metadata": {},
     "output_type": "execute_result"
    }
   ],
   "source": [
    "# set initial df = 2*tan(-80 deg)\n",
    "eq1 = sympy.Eq(l1,2*np.tan(-80/180*np.pi));\n",
    "eq1"
   ]
  },
  {
   "cell_type": "markdown",
   "metadata": {},
   "source": [
    "Solve this equation to eliminate constant a."
   ]
  },
  {
   "cell_type": "code",
   "execution_count": 93,
   "metadata": {
    "scrolled": false
   },
   "outputs": [
    {
     "data": {
      "text/plain": [
       "[11.3425636392354*b**(p + 1)/p]"
      ]
     },
     "execution_count": 93,
     "metadata": {},
     "output_type": "execute_result"
    }
   ],
   "source": [
    "a1 = sympy.solve(eq1,a);\n",
    "a1"
   ]
  },
  {
   "cell_type": "markdown",
   "metadata": {},
   "source": [
    "Then function is written as follows."
   ]
  },
  {
   "cell_type": "code",
   "execution_count": 94,
   "metadata": {},
   "outputs": [
    {
     "data": {
      "text/latex": [
       "$\\displaystyle \\frac{11.3425636392354 b^{p + 1} \\left(b + x\\right)^{- p}}{p} + c$"
      ],
      "text/plain": [
       "11.3425636392354*b**(p + 1)/(p*(b + x)**p) + c"
      ]
     },
     "execution_count": 94,
     "metadata": {},
     "output_type": "execute_result"
    }
   ],
   "source": [
    "f2 = f.subs(a,a1[0]);\n",
    "f2"
   ]
  },
  {
   "cell_type": "markdown",
   "metadata": {},
   "source": [
    "2nd condition is larger end diameter."
   ]
  },
  {
   "cell_type": "code",
   "execution_count": 95,
   "metadata": {},
   "outputs": [
    {
     "data": {
      "text/latex": [
       "$\\displaystyle c + \\frac{11.3425636392354 b^{- p} b^{p + 1}}{p} = 300$"
      ],
      "text/plain": [
       "Eq(c + 11.3425636392354*b**(p + 1)/(b**p*p), 300)"
      ]
     },
     "execution_count": 95,
     "metadata": {},
     "output_type": "execute_result"
    }
   ],
   "source": [
    "# initial diameter condition\n",
    "eq2 = sympy.Eq(f2.subs(x,0),df);\n",
    "eq2"
   ]
  },
  {
   "cell_type": "markdown",
   "metadata": {},
   "source": [
    "We can eliminate constant c from this equation."
   ]
  },
  {
   "cell_type": "code",
   "execution_count": 96,
   "metadata": {
    "scrolled": false
   },
   "outputs": [
    {
     "data": {
      "text/plain": [
       "[-11.3425636392354*b/p + 300.0]"
      ]
     },
     "execution_count": 96,
     "metadata": {},
     "output_type": "execute_result"
    }
   ],
   "source": [
    "a2 = sympy.solve(eq2,c);\n",
    "a2"
   ]
  },
  {
   "cell_type": "markdown",
   "metadata": {},
   "source": [
    "Function is now below."
   ]
  },
  {
   "cell_type": "code",
   "execution_count": 97,
   "metadata": {},
   "outputs": [
    {
     "data": {
      "text/latex": [
       "$\\displaystyle - \\frac{11.3425636392354 b}{p} + \\frac{11.3425636392354 b^{p + 1} \\left(b + x\\right)^{- p}}{p} + 300.0$"
      ],
      "text/plain": [
       "-11.3425636392354*b/p + 11.3425636392354*b**(p + 1)/(p*(b + x)**p) + 300.0"
      ]
     },
     "execution_count": 97,
     "metadata": {},
     "output_type": "execute_result"
    }
   ],
   "source": [
    "f3 = f2.subs(c,a2[0]);\n",
    "f3"
   ]
  },
  {
   "cell_type": "markdown",
   "metadata": {},
   "source": [
    "3rd condition is at smaller end."
   ]
  },
  {
   "cell_type": "code",
   "execution_count": 98,
   "metadata": {
    "scrolled": false
   },
   "outputs": [
    {
     "data": {
      "text/latex": [
       "$\\displaystyle - \\frac{11.3425636392354 b}{p} + \\frac{11.3425636392354 b^{p + 1} \\left(b + 850\\right)^{- p}}{p} + 300.0 = 16$"
      ],
      "text/plain": [
       "Eq(-11.3425636392354*b/p + 11.3425636392354*b**(p + 1)/(p*(b + 850)**p) + 300.0, 16)"
      ]
     },
     "execution_count": 98,
     "metadata": {},
     "output_type": "execute_result"
    }
   ],
   "source": [
    "# 2nd diameter condition at x = xL\n",
    "eq3 = sympy.Eq(f3.subs(x,xL),db);\n",
    "eq3"
   ]
  },
  {
   "cell_type": "markdown",
   "metadata": {},
   "source": [
    "Since this equation cannnot be solved analytically, we need to assume p, then solve it numerically."
   ]
  },
  {
   "cell_type": "code",
   "execution_count": 99,
   "metadata": {
    "scrolled": true
   },
   "outputs": [
    {
     "data": {
      "text/latex": [
       "$\\displaystyle \\frac{11.3425636392354 b^{2}}{b + 850} - 11.3425636392354 b + 284.0$"
      ],
      "text/plain": [
       "11.3425636392354*b**2/(b + 850) - 11.3425636392354*b + 284.0"
      ]
     },
     "execution_count": 99,
     "metadata": {},
     "output_type": "execute_result"
    }
   ],
   "source": [
    "# this is not solved mathematically.\n",
    "# set p for try and error.\n",
    "\n",
    "p0 = 1\n",
    "f4 = f3.subs(p,p0).subs(x,xL) - db;\n",
    "f4"
   ]
  },
  {
   "cell_type": "markdown",
   "metadata": {},
   "source": [
    "Numeric solution for constant b is,"
   ]
  },
  {
   "cell_type": "code",
   "execution_count": 100,
   "metadata": {
    "scrolled": true
   },
   "outputs": [
    {
     "data": {
      "text/latex": [
       "$\\displaystyle 25.7983733763904$"
      ],
      "text/plain": [
       "25.7983733763904"
      ]
     },
     "execution_count": 100,
     "metadata": {},
     "output_type": "execute_result"
    }
   ],
   "source": [
    "a5 = sympy.nsolve(f4,-1);\n",
    "a5"
   ]
  },
  {
   "cell_type": "markdown",
   "metadata": {},
   "source": [
    "Finally we get bell function under arbitrarily defined p."
   ]
  },
  {
   "cell_type": "code",
   "execution_count": 101,
   "metadata": {
    "scrolled": false
   },
   "outputs": [
    {
     "data": {
      "text/latex": [
       "$\\displaystyle 7.38030818953547 + \\frac{7549.11206661066}{x + 25.7983733763904}$"
      ],
      "text/plain": [
       "7.38030818953547 + 7549.11206661066/(x + 25.7983733763904)"
      ]
     },
     "execution_count": 101,
     "metadata": {},
     "output_type": "execute_result"
    }
   ],
   "source": [
    "ff = f3.subs(p,p0).subs(b,a5);\n",
    "ff"
   ]
  },
  {
   "cell_type": "markdown",
   "metadata": {},
   "source": [
    "Let us check boundary conditions."
   ]
  },
  {
   "cell_type": "code",
   "execution_count": 102,
   "metadata": {},
   "outputs": [],
   "source": [
    "# convert to python function\n",
    "func = sympy.lambdify(x,ff)"
   ]
  },
  {
   "cell_type": "code",
   "execution_count": 103,
   "metadata": {
    "scrolled": true
   },
   "outputs": [
    {
     "data": {
      "text/plain": [
       "300.0000000000003"
      ]
     },
     "execution_count": 103,
     "metadata": {},
     "output_type": "execute_result"
    }
   ],
   "source": [
    "# large end\n",
    "func(0)"
   ]
  },
  {
   "cell_type": "code",
   "execution_count": 104,
   "metadata": {},
   "outputs": [
    {
     "data": {
      "text/plain": [
       "289.080692036769"
      ]
     },
     "execution_count": 104,
     "metadata": {},
     "output_type": "execute_result"
    }
   ],
   "source": [
    "func(1)"
   ]
  },
  {
   "cell_type": "code",
   "execution_count": 105,
   "metadata": {
    "scrolled": true
   },
   "outputs": [
    {
     "data": {
      "text/plain": [
       "-79.62065153137658"
      ]
     },
     "execution_count": 105,
     "metadata": {},
     "output_type": "execute_result"
    }
   ],
   "source": [
    "# approx tangent angle at larger end\n",
    "np.arctan((func(1)-func(0))/2)*180/np.pi"
   ]
  },
  {
   "cell_type": "code",
   "execution_count": 106,
   "metadata": {},
   "outputs": [
    {
     "data": {
      "text/plain": [
       "16.000000000000036"
      ]
     },
     "execution_count": 106,
     "metadata": {},
     "output_type": "execute_result"
    }
   ],
   "source": [
    "# smaller end\n",
    "func(xL)"
   ]
  },
  {
   "cell_type": "code",
   "execution_count": 107,
   "metadata": {
    "scrolled": true
   },
   "outputs": [
    {
     "data": {
      "text/plain": [
       "59.158060518239516"
      ]
     },
     "execution_count": 107,
     "metadata": {},
     "output_type": "execute_result"
    }
   ],
   "source": [
    "# check another diameter (bell cut position)\n",
    "func(120)"
   ]
  },
  {
   "cell_type": "markdown",
   "metadata": {},
   "source": [
    "Plotting shape."
   ]
  },
  {
   "cell_type": "code",
   "execution_count": 108,
   "metadata": {},
   "outputs": [],
   "source": [
    "xx = np.linspace(0,xL,xL+1)\n",
    "yy = func(xx)"
   ]
  },
  {
   "cell_type": "code",
   "execution_count": 109,
   "metadata": {},
   "outputs": [
    {
     "data": {
      "text/plain": [
       "[<matplotlib.lines.Line2D at 0x7f3c3f7e9960>]"
      ]
     },
     "execution_count": 109,
     "metadata": {},
     "output_type": "execute_result"
    },
    {
     "data": {
      "image/png": "[encoded data removed]",
      "text/plain": [
       "<Figure size 640x480 with 1 Axes>"
      ]
     },
     "metadata": {},
     "output_type": "display_data"
    }
   ],
   "source": [
    "plt.plot(xx,yy)"
   ]
  },
  {
   "cell_type": "markdown",
   "metadata": {},
   "source": [
    "### do all calculation at once"
   ]
  },
  {
   "cell_type": "code",
   "execution_count": 110,
   "metadata": {},
   "outputs": [],
   "source": [
    "p0 = 0.830818 # 0.830818 gives f(120) = 65.00\n",
    "ang = -80/180*np.pi\n",
    "df = 300\n",
    "\n",
    "f0 = f.subs(p,p0)\n",
    "fd1 = sympy.diff(f0,x)\n",
    "e1 = sympy.Eq(fd1.subs(x,0),2*np.tan(ang))\n",
    "a1 = sympy.solve(e1,a)[0]\n",
    "f1 = f0.subs(a,a1)\n",
    "e2 = sympy.Eq(f1.subs(x,0),df)\n",
    "a2 = sympy.solve(e2,c)[0]\n",
    "f2 = f1.subs(c,a2)"
   ]
  },
  {
   "cell_type": "code",
   "execution_count": 111,
   "metadata": {},
   "outputs": [
    {
     "data": {
      "text/latex": [
       "$\\displaystyle \\frac{297.915714263218}{\\left(0.0458259963095494 x + 1\\right)^{0.830818}} + 2.08428573678191$"
      ],
      "text/plain": [
       "297.915714263218/(0.0458259963095494*x + 1)**0.830818 + 2.08428573678191"
      ]
     },
     "execution_count": 111,
     "metadata": {},
     "output_type": "execute_result"
    }
   ],
   "source": [
    "xL = 850\n",
    "db = 16.0\n",
    "\n",
    "e3 = f2.subs(x,xL) - db\n",
    "a3 = sympy.nsolve(e3,1)\n",
    "\n",
    "ff = f2.subs(b,a3)\n",
    "ff"
   ]
  },
  {
   "cell_type": "code",
   "execution_count": 112,
   "metadata": {},
   "outputs": [],
   "source": [
    "func2 = sympy.lambdify(x,ff)"
   ]
  },
  {
   "cell_type": "code",
   "execution_count": 113,
   "metadata": {},
   "outputs": [
    {
     "data": {
      "text/plain": [
       "65.00001571896624"
      ]
     },
     "execution_count": 113,
     "metadata": {},
     "output_type": "execute_result"
    }
   ],
   "source": [
    "# check throat\n",
    "func2(120)"
   ]
  },
  {
   "cell_type": "markdown",
   "metadata": {},
   "source": [
    "Diameter at x = 120 must be near 65.0 on actual horn."
   ]
  },
  {
   "cell_type": "code",
   "execution_count": 114,
   "metadata": {},
   "outputs": [],
   "source": [
    "yy2 = func2(xx)"
   ]
  },
  {
   "cell_type": "code",
   "execution_count": 34,
   "metadata": {},
   "outputs": [
    {
     "data": {
      "text/plain": [
       "<matplotlib.legend.Legend at 0x7f3c432c2710>"
      ]
     },
     "execution_count": 34,
     "metadata": {},
     "output_type": "execute_result"
    },
    {
     "data": {
      "image/png": "[encoded data removed]",
      "text/plain": [
       "<Figure size 640x480 with 1 Axes>"
      ]
     },
     "metadata": {},
     "output_type": "display_data"
    }
   ],
   "source": [
    "plt.plot(xx,yy,label = 'p = 1.0')\n",
    "plt.plot(xx,yy2,label = 'p = 0.830818')\n",
    "plt.legend()"
   ]
  },
  {
   "cell_type": "code",
   "execution_count": 128,
   "metadata": {},
   "outputs": [],
   "source": [
    "# output data as x,y data.\n",
    "import pandas as pd"
   ]
  },
  {
   "cell_type": "code",
   "execution_count": 131,
   "metadata": {},
   "outputs": [],
   "source": [
    "dd = pd.DataFrame({ 'x':xx, 'y':yy2})"
   ]
  },
  {
   "cell_type": "code",
   "execution_count": 132,
   "metadata": {},
   "outputs": [
    {
     "data": {
      "text/html": [
       "<div>\n",
       "<style scoped>\n",
       "    .dataframe tbody tr th:only-of-type {\n",
       "        vertical-align: middle;\n",
       "    }\n",
       "\n",
       "    .dataframe tbody tr th {\n",
       "        vertical-align: top;\n",
       "    }\n",
       "\n",
       "    .dataframe thead th {\n",
       "        text-align: right;\n",
       "    }\n",
       "</style>\n",
       "<table border=\"1\" class=\"dataframe\">\n",
       "  <thead>\n",
       "    <tr style=\"text-align: right;\">\n",
       "      <th></th>\n",
       "      <th>x</th>\n",
       "      <th>y</th>\n",
       "    </tr>\n",
       "  </thead>\n",
       "  <tbody>\n",
       "    <tr>\n",
       "      <th>0</th>\n",
       "      <td>0.0</td>\n",
       "      <td>300.000000</td>\n",
       "    </tr>\n",
       "    <tr>\n",
       "      <th>1</th>\n",
       "      <td>1.0</td>\n",
       "      <td>289.113541</td>\n",
       "    </tr>\n",
       "    <tr>\n",
       "      <th>2</th>\n",
       "      <td>2.0</td>\n",
       "      <td>279.066806</td>\n",
       "    </tr>\n",
       "    <tr>\n",
       "      <th>3</th>\n",
       "      <td>3.0</td>\n",
       "      <td>269.763691</td>\n",
       "    </tr>\n",
       "    <tr>\n",
       "      <th>4</th>\n",
       "      <td>4.0</td>\n",
       "      <td>261.122399</td>\n",
       "    </tr>\n",
       "  </tbody>\n",
       "</table>\n",
       "</div>"
      ],
      "text/plain": [
       "     x           y\n",
       "0  0.0  300.000000\n",
       "1  1.0  289.113541\n",
       "2  2.0  279.066806\n",
       "3  3.0  269.763691\n",
       "4  4.0  261.122399"
      ]
     },
     "execution_count": 132,
     "metadata": {},
     "output_type": "execute_result"
    }
   ],
   "source": [
    "dd.head()"
   ]
  },
  {
   "cell_type": "code",
   "execution_count": 134,
   "metadata": {},
   "outputs": [],
   "source": [
    "dd.to_csv('bell_20180330_xyrev.csv', index = False)"
   ]
  },
  {
   "cell_type": "markdown",
   "metadata": {},
   "source": [
    "### How can you find p=830818 ?"
   ]
  },
  {
   "cell_type": "markdown",
   "metadata": {},
   "source": [
    "It is farely simple.\n",
    "Just run several times assuming some p value.\n",
    "Then interpolate results to estimate better one."
   ]
  },
  {
   "cell_type": "code",
   "execution_count": 115,
   "metadata": {},
   "outputs": [],
   "source": [
    "from scipy.interpolate import CubicSpline"
   ]
  },
  {
   "cell_type": "code",
   "execution_count": 116,
   "metadata": {},
   "outputs": [],
   "source": [
    "vpair = []"
   ]
  },
  {
   "cell_type": "code",
   "execution_count": 149,
   "metadata": {},
   "outputs": [],
   "source": [
    "p0 = 0.83081841 # 0.830818 gives f(120) = 65.00\n",
    "ang = -80/180*np.pi\n",
    "df = 300\n",
    "\n",
    "f0 = f.subs(p,p0)\n",
    "fd1 = sympy.diff(f0,x)\n",
    "e1 = sympy.Eq(fd1.subs(x,0),2*np.tan(ang))\n",
    "a1 = sympy.solve(e1,a)[0]\n",
    "f1 = f0.subs(a,a1)\n",
    "e2 = sympy.Eq(f1.subs(x,0),df)\n",
    "a2 = sympy.solve(e2,c)[0]\n",
    "f2 = f1.subs(c,a2)"
   ]
  },
  {
   "cell_type": "code",
   "execution_count": 150,
   "metadata": {},
   "outputs": [
    {
     "data": {
      "text/latex": [
       "$\\displaystyle \\frac{297.915697356616}{\\left(0.0458259762955167 x + 1\\right)^{0.83081841}} + 2.08430264338455$"
      ],
      "text/plain": [
       "297.915697356616/(0.0458259762955167*x + 1)**0.83081841 + 2.08430264338455"
      ]
     },
     "execution_count": 150,
     "metadata": {},
     "output_type": "execute_result"
    }
   ],
   "source": [
    "xL = 850\n",
    "db = 16.0\n",
    "\n",
    "e3 = f2.subs(x,xL) - db\n",
    "a3 = sympy.nsolve(e3,1)\n",
    "\n",
    "ff = f2.subs(b,a3)\n",
    "ff"
   ]
  },
  {
   "cell_type": "code",
   "execution_count": 151,
   "metadata": {},
   "outputs": [],
   "source": [
    "func2 = sympy.lambdify(x,ff)"
   ]
  },
  {
   "cell_type": "code",
   "execution_count": 152,
   "metadata": {},
   "outputs": [
    {
     "data": {
      "text/plain": [
       "65.0000000910751"
      ]
     },
     "execution_count": 152,
     "metadata": {},
     "output_type": "execute_result"
    }
   ],
   "source": [
    "# check throat\n",
    "func2(120)"
   ]
  },
  {
   "cell_type": "code",
   "execution_count": 153,
   "metadata": {},
   "outputs": [],
   "source": [
    "vpair.append([p0, func2(120)])"
   ]
  },
  {
   "cell_type": "markdown",
   "metadata": {},
   "source": [
    "Repeat calc up to this cell several times to form list of canditates."
   ]
  },
  {
   "cell_type": "code",
   "execution_count": 154,
   "metadata": {},
   "outputs": [],
   "source": [
    "vpair.sort()"
   ]
  },
  {
   "cell_type": "code",
   "execution_count": 155,
   "metadata": {},
   "outputs": [
    {
     "data": {
      "text/plain": [
       "[[0.8, 66.19684804592285],\n",
       " [0.82, 65.41506591994916],\n",
       " [0.83081652, 65.00007213190726],\n",
       " [0.83081841, 65.0000000910751],\n",
       " [0.85, 64.27723244315678]]"
      ]
     },
     "execution_count": 155,
     "metadata": {},
     "output_type": "execute_result"
    }
   ],
   "source": [
    "vpair"
   ]
  },
  {
   "cell_type": "markdown",
   "metadata": {},
   "source": [
    "Make interpolation function to search a value that gives f(120) = 65.0"
   ]
  },
  {
   "cell_type": "code",
   "execution_count": 156,
   "metadata": {},
   "outputs": [],
   "source": [
    "x0 = [v[0] for v in vpair]\n",
    "y0 = [v[1] - 65.0 for v in vpair]"
   ]
  },
  {
   "cell_type": "code",
   "execution_count": 157,
   "metadata": {},
   "outputs": [],
   "source": [
    "fintp = CubicSpline(x0,y0)"
   ]
  },
  {
   "cell_type": "code",
   "execution_count": 158,
   "metadata": {},
   "outputs": [
    {
     "data": {
      "text/plain": [
       "array([0.83081841])"
      ]
     },
     "execution_count": 158,
     "metadata": {},
     "output_type": "execute_result"
    }
   ],
   "source": [
    "fintp.roots()"
   ]
  },
  {
   "cell_type": "code",
   "execution_count": null,
   "metadata": {},
   "outputs": [],
   "source": []
  }
 ],
 "metadata": {
  "kernelspec": {
   "display_name": "Python 3",
   "language": "python",
   "name": "python3"
  },
  "language_info": {
   "codemirror_mode": {
    "name": "ipython",
    "version": 3
   },
   "file_extension": ".py",
   "mimetype": "text/x-python",
   "name": "python",
   "nbconvert_exporter": "python",
   "pygments_lexer": "ipython3",
   "version": "3.10.13"
  }
 },
 "nbformat": 4,
 "nbformat_minor": 2
}
